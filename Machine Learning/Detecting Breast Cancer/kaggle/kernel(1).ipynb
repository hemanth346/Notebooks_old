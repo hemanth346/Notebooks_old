{
  "cells": [
    {
      "metadata": {
        "_uuid": "622a027fb064a39536a19c1a18c0874296132e03"
      },
      "cell_type": "markdown",
      "source": "## My first attempt at making \"tutorial\" (kind-of) notes \n- explaining why I took certain steps and documenting thought process"
    },
    {
      "metadata": {
        "_cell_guid": "b1076dfc-b9ad-4769-8c92-a6c4dae69d19",
        "_uuid": "8f2839f25d086af736a60e9eeb907d3b93b6e0e5",
        "trusted": true
      },
      "cell_type": "code",
      "source": "from platform import python_version\nprint(python_version())\n#just checking",
      "execution_count": 1,
      "outputs": [
        {
          "output_type": "stream",
          "text": "3.6.6\n",
          "name": "stdout"
        }
      ]
    },
    {
      "metadata": {
        "_cell_guid": "79c7e3d0-c299-4dcb-8224-4455121ee9b0",
        "_uuid": "d629ff2d2480ee46fbb7e2d37f6b5fab8052498a",
        "trusted": true
      },
      "cell_type": "code",
      "source": "import numpy as np\nimport pandas as pd\nimport matplotlib.pyplot as plt\nimport seaborn as sns\nimport warnings \n\n#To ignore warnings, to display warning only once use 'once', \n#change it to 'default' to get default settings\nwarnings.filterwarnings('ignore') \n\n%matplotlib inline",
      "execution_count": 2,
      "outputs": []
    },
    {
      "metadata": {
        "_uuid": "e846f0fd91d6103d6ee450b188625fa000ca0920",
        "trusted": true
      },
      "cell_type": "code",
      "source": "from sklearn.model_selection import train_test_split\nfrom sklearn.metrics import *\n# Consiously importing modules/methods when required ",
      "execution_count": 3,
      "outputs": []
    },
    {
      "metadata": {
        "_uuid": "8a9ad556e65360957de5bda20aebbc0205c6b7cf",
        "trusted": true
      },
      "cell_type": "code",
      "source": "datalake = '../input/data.csv'\ndataset = pd.read_csv(datalake)",
      "execution_count": 4,
      "outputs": []
    },
    {
      "metadata": {
        "_uuid": "79f49ff8a28eeae3458bf00e6cecd2487b2b8e33",
        "trusted": true
      },
      "cell_type": "code",
      "source": "dataset.head(2)",
      "execution_count": 5,
      "outputs": [
        {
          "output_type": "execute_result",
          "execution_count": 5,
          "data": {
            "text/plain": "       id diagnosis     ...       fractal_dimension_worst  Unnamed: 32\n0  842302         M     ...                       0.11890          NaN\n1  842517         M     ...                       0.08902          NaN\n\n[2 rows x 33 columns]",
            "text/html": "<div>\n<style scoped>\n    .dataframe tbody tr th:only-of-type {\n        vertical-align: middle;\n    }\n\n    .dataframe tbody tr th {\n        vertical-align: top;\n    }\n\n    .dataframe thead th {\n        text-align: right;\n    }\n</style>\n<table border=\"1\" class=\"dataframe\">\n  <thead>\n    <tr style=\"text-align: right;\">\n      <th></th>\n      <th>id</th>\n      <th>diagnosis</th>\n      <th>radius_mean</th>\n      <th>texture_mean</th>\n      <th>perimeter_mean</th>\n      <th>area_mean</th>\n      <th>smoothness_mean</th>\n      <th>compactness_mean</th>\n      <th>concavity_mean</th>\n      <th>concave points_mean</th>\n      <th>symmetry_mean</th>\n      <th>fractal_dimension_mean</th>\n      <th>radius_se</th>\n      <th>texture_se</th>\n      <th>perimeter_se</th>\n      <th>area_se</th>\n      <th>smoothness_se</th>\n      <th>compactness_se</th>\n      <th>concavity_se</th>\n      <th>concave points_se</th>\n      <th>symmetry_se</th>\n      <th>fractal_dimension_se</th>\n      <th>radius_worst</th>\n      <th>texture_worst</th>\n      <th>perimeter_worst</th>\n      <th>area_worst</th>\n      <th>smoothness_worst</th>\n      <th>compactness_worst</th>\n      <th>concavity_worst</th>\n      <th>concave points_worst</th>\n      <th>symmetry_worst</th>\n      <th>fractal_dimension_worst</th>\n      <th>Unnamed: 32</th>\n    </tr>\n  </thead>\n  <tbody>\n    <tr>\n      <th>0</th>\n      <td>842302</td>\n      <td>M</td>\n      <td>17.99</td>\n      <td>10.38</td>\n      <td>122.8</td>\n      <td>1001.0</td>\n      <td>0.11840</td>\n      <td>0.27760</td>\n      <td>0.3001</td>\n      <td>0.14710</td>\n      <td>0.2419</td>\n      <td>0.07871</td>\n      <td>1.0950</td>\n      <td>0.9053</td>\n      <td>8.589</td>\n      <td>153.40</td>\n      <td>0.006399</td>\n      <td>0.04904</td>\n      <td>0.05373</td>\n      <td>0.01587</td>\n      <td>0.03003</td>\n      <td>0.006193</td>\n      <td>25.38</td>\n      <td>17.33</td>\n      <td>184.6</td>\n      <td>2019.0</td>\n      <td>0.1622</td>\n      <td>0.6656</td>\n      <td>0.7119</td>\n      <td>0.2654</td>\n      <td>0.4601</td>\n      <td>0.11890</td>\n      <td>NaN</td>\n    </tr>\n    <tr>\n      <th>1</th>\n      <td>842517</td>\n      <td>M</td>\n      <td>20.57</td>\n      <td>17.77</td>\n      <td>132.9</td>\n      <td>1326.0</td>\n      <td>0.08474</td>\n      <td>0.07864</td>\n      <td>0.0869</td>\n      <td>0.07017</td>\n      <td>0.1812</td>\n      <td>0.05667</td>\n      <td>0.5435</td>\n      <td>0.7339</td>\n      <td>3.398</td>\n      <td>74.08</td>\n      <td>0.005225</td>\n      <td>0.01308</td>\n      <td>0.01860</td>\n      <td>0.01340</td>\n      <td>0.01389</td>\n      <td>0.003532</td>\n      <td>24.99</td>\n      <td>23.41</td>\n      <td>158.8</td>\n      <td>1956.0</td>\n      <td>0.1238</td>\n      <td>0.1866</td>\n      <td>0.2416</td>\n      <td>0.1860</td>\n      <td>0.2750</td>\n      <td>0.08902</td>\n      <td>NaN</td>\n    </tr>\n  </tbody>\n</table>\n</div>"
          },
          "metadata": {}
        }
      ]
    },
    {
      "metadata": {
        "_uuid": "6dc0fb90abb5c8a81cbb1e62a03ae58c280cbb28",
        "trusted": true
      },
      "cell_type": "code",
      "source": "#removing 'id' and 'Unnamed: 32' columns and\n# copying X and target label 'diagnosis' to seperate DataFrames for analysis\ndataset.drop(['id','Unnamed: 32'], axis=1, inplace = True) #removing from dataset directly\nX_data = dataset.drop('diagnosis', axis = 1)\nY_data = dataset.diagnosis #note that it becomes a pandas Series object",
      "execution_count": 6,
      "outputs": []
    },
    {
      "metadata": {
        "_uuid": "9e5ffe8cefd543d98abd54d8cdc6e9f65a1f4673",
        "trusted": true
      },
      "cell_type": "code",
      "source": "X_data.head(2) #checking if we have it as required",
      "execution_count": 7,
      "outputs": [
        {
          "output_type": "execute_result",
          "execution_count": 7,
          "data": {
            "text/plain": "   radius_mean           ...             fractal_dimension_worst\n0        17.99           ...                             0.11890\n1        20.57           ...                             0.08902\n\n[2 rows x 30 columns]",
            "text/html": "<div>\n<style scoped>\n    .dataframe tbody tr th:only-of-type {\n        vertical-align: middle;\n    }\n\n    .dataframe tbody tr th {\n        vertical-align: top;\n    }\n\n    .dataframe thead th {\n        text-align: right;\n    }\n</style>\n<table border=\"1\" class=\"dataframe\">\n  <thead>\n    <tr style=\"text-align: right;\">\n      <th></th>\n      <th>radius_mean</th>\n      <th>texture_mean</th>\n      <th>perimeter_mean</th>\n      <th>area_mean</th>\n      <th>smoothness_mean</th>\n      <th>compactness_mean</th>\n      <th>concavity_mean</th>\n      <th>concave points_mean</th>\n      <th>symmetry_mean</th>\n      <th>fractal_dimension_mean</th>\n      <th>radius_se</th>\n      <th>texture_se</th>\n      <th>perimeter_se</th>\n      <th>area_se</th>\n      <th>smoothness_se</th>\n      <th>compactness_se</th>\n      <th>concavity_se</th>\n      <th>concave points_se</th>\n      <th>symmetry_se</th>\n      <th>fractal_dimension_se</th>\n      <th>radius_worst</th>\n      <th>texture_worst</th>\n      <th>perimeter_worst</th>\n      <th>area_worst</th>\n      <th>smoothness_worst</th>\n      <th>compactness_worst</th>\n      <th>concavity_worst</th>\n      <th>concave points_worst</th>\n      <th>symmetry_worst</th>\n      <th>fractal_dimension_worst</th>\n    </tr>\n  </thead>\n  <tbody>\n    <tr>\n      <th>0</th>\n      <td>17.99</td>\n      <td>10.38</td>\n      <td>122.8</td>\n      <td>1001.0</td>\n      <td>0.11840</td>\n      <td>0.27760</td>\n      <td>0.3001</td>\n      <td>0.14710</td>\n      <td>0.2419</td>\n      <td>0.07871</td>\n      <td>1.0950</td>\n      <td>0.9053</td>\n      <td>8.589</td>\n      <td>153.40</td>\n      <td>0.006399</td>\n      <td>0.04904</td>\n      <td>0.05373</td>\n      <td>0.01587</td>\n      <td>0.03003</td>\n      <td>0.006193</td>\n      <td>25.38</td>\n      <td>17.33</td>\n      <td>184.6</td>\n      <td>2019.0</td>\n      <td>0.1622</td>\n      <td>0.6656</td>\n      <td>0.7119</td>\n      <td>0.2654</td>\n      <td>0.4601</td>\n      <td>0.11890</td>\n    </tr>\n    <tr>\n      <th>1</th>\n      <td>20.57</td>\n      <td>17.77</td>\n      <td>132.9</td>\n      <td>1326.0</td>\n      <td>0.08474</td>\n      <td>0.07864</td>\n      <td>0.0869</td>\n      <td>0.07017</td>\n      <td>0.1812</td>\n      <td>0.05667</td>\n      <td>0.5435</td>\n      <td>0.7339</td>\n      <td>3.398</td>\n      <td>74.08</td>\n      <td>0.005225</td>\n      <td>0.01308</td>\n      <td>0.01860</td>\n      <td>0.01340</td>\n      <td>0.01389</td>\n      <td>0.003532</td>\n      <td>24.99</td>\n      <td>23.41</td>\n      <td>158.8</td>\n      <td>1956.0</td>\n      <td>0.1238</td>\n      <td>0.1866</td>\n      <td>0.2416</td>\n      <td>0.1860</td>\n      <td>0.2750</td>\n      <td>0.08902</td>\n    </tr>\n  </tbody>\n</table>\n</div>"
          },
          "metadata": {}
        }
      ]
    },
    {
      "metadata": {
        "_uuid": "d3bc20b30a03fed1ee83db46da1ee013cd8829fc",
        "trusted": true
      },
      "cell_type": "code",
      "source": "Y_data.head(2)",
      "execution_count": 8,
      "outputs": [
        {
          "output_type": "execute_result",
          "execution_count": 8,
          "data": {
            "text/plain": "0    M\n1    M\nName: diagnosis, dtype: object"
          },
          "metadata": {}
        }
      ]
    },
    {
      "metadata": {
        "_uuid": "56bf071fb44353c6a195021616c5fabbfb6aafae",
        "trusted": true
      },
      "cell_type": "code",
      "source": "#checking if any null values in entire dataset\ndataset.info()",
      "execution_count": 9,
      "outputs": [
        {
          "output_type": "stream",
          "text": "<class 'pandas.core.frame.DataFrame'>\nRangeIndex: 569 entries, 0 to 568\nData columns (total 31 columns):\ndiagnosis                  569 non-null object\nradius_mean                569 non-null float64\ntexture_mean               569 non-null float64\nperimeter_mean             569 non-null float64\narea_mean                  569 non-null float64\nsmoothness_mean            569 non-null float64\ncompactness_mean           569 non-null float64\nconcavity_mean             569 non-null float64\nconcave points_mean        569 non-null float64\nsymmetry_mean              569 non-null float64\nfractal_dimension_mean     569 non-null float64\nradius_se                  569 non-null float64\ntexture_se                 569 non-null float64\nperimeter_se               569 non-null float64\narea_se                    569 non-null float64\nsmoothness_se              569 non-null float64\ncompactness_se             569 non-null float64\nconcavity_se               569 non-null float64\nconcave points_se          569 non-null float64\nsymmetry_se                569 non-null float64\nfractal_dimension_se       569 non-null float64\nradius_worst               569 non-null float64\ntexture_worst              569 non-null float64\nperimeter_worst            569 non-null float64\narea_worst                 569 non-null float64\nsmoothness_worst           569 non-null float64\ncompactness_worst          569 non-null float64\nconcavity_worst            569 non-null float64\nconcave points_worst       569 non-null float64\nsymmetry_worst             569 non-null float64\nfractal_dimension_worst    569 non-null float64\ndtypes: float64(30), object(1)\nmemory usage: 137.9+ KB\n",
          "name": "stdout"
        }
      ]
    },
    {
      "metadata": {
        "_uuid": "306ea85135808d3c79f1f21935d82666790f24c5"
      },
      "cell_type": "markdown",
      "source": "- Total 569 datapoints(entries), 30 features(float), 1 target(object) ***can cross verify with dataset.shape***\n- No missing/null values found\n- no objects found apart from target_col - diagnosis; ***i.e we can directly proceed with analysis of X without encoding***  \n"
    },
    {
      "metadata": {
        "_uuid": "3e0a9f0affae6d22837789aa6afb7f4b441c582b",
        "trusted": true
      },
      "cell_type": "code",
      "source": "#converting Y to machine understandable language i.e numbers\nclasses = list(Y_data.unique()) #get list of unique classes\nvalues = [1 if x=='M' else 0 for x in classes] # assign corresponding values for classes\nprint('Unique Classes : {}'.format(classes))\nprint('Respective values assigned : {}'.format(values))",
      "execution_count": 10,
      "outputs": [
        {
          "output_type": "stream",
          "text": "Unique Classes : ['M', 'B']\nRespective values assigned : [1, 0]\n",
          "name": "stdout"
        }
      ]
    },
    {
      "metadata": {
        "_uuid": "857a76132f35efeb5196665cac1b60ef8affd653"
      },
      "cell_type": "markdown",
      "source": "## As we are trying to predict if cancer is detected, I assigned 1 to Malignant class (M)\n\nIt is general convention, that the object/class to-be/if detected to corresponds to 1; we can proceed the other way also.\n\n### In Machine learning if we have multi-class we can use one-vs-all approach; for Neural networks changing neurons in o/p layer should be enough"
    },
    {
      "metadata": {
        "_uuid": "a4483319dce37940dc6a22118ab288db2f4eeb18",
        "trusted": true
      },
      "cell_type": "code",
      "source": "# assign values to classes and update dataset\nY_data = Y_data.map(dict(zip(classes, values)))\nY_data.head()",
      "execution_count": 11,
      "outputs": [
        {
          "output_type": "execute_result",
          "execution_count": 11,
          "data": {
            "text/plain": "0    1\n1    1\n2    1\n3    1\n4    1\nName: diagnosis, dtype: int64"
          },
          "metadata": {}
        }
      ]
    },
    {
      "metadata": {
        "_uuid": "3b708082407b73d7170bad2b76db863b016b3a48"
      },
      "cell_type": "markdown",
      "source": "# Present data is valid to fit any model, so we will first try to get a baseline estimate before proceeding with data analysis and proceed on to other models final model\n\n### As this is a classification model I take Simple Linear Classifier (Logistic Regression) to be my baseline model"
    },
    {
      "metadata": {
        "_uuid": "c2201990f955a61637e016c7597693ef15aba9b7"
      },
      "cell_type": "markdown",
      "source": "# Modeling Logistic Regression"
    },
    {
      "metadata": {
        "_uuid": "816008ceece0ea802e215cfbe98f5c9ba857b3f2",
        "trusted": true
      },
      "cell_type": "code",
      "source": "#import required modules\nfrom sklearn.linear_model import LogisticRegression\n\n#used below metrics from sklearn.metrics\n    # accuracy_score\n    # confusion_matrix\n    # precision_score\n    # recall_score",
      "execution_count": 12,
      "outputs": []
    },
    {
      "metadata": {
        "_uuid": "3a8c5b4ffdc99eff23ebbcdab8c3ad79b3a29514",
        "trusted": true
      },
      "cell_type": "code",
      "source": "seed = 2913\nval_ratio = 0.3 \nX_train, X_test, Y_train, Y_test = train_test_split(X_data,Y_data, test_size = val_ratio, random_state = seed)\nbaseline_classifier = LogisticRegression()\nbaseline_classifier.fit(X_train,Y_train)  #fitting the data to model",
      "execution_count": 13,
      "outputs": [
        {
          "output_type": "execute_result",
          "execution_count": 13,
          "data": {
            "text/plain": "LogisticRegression(C=1.0, class_weight=None, dual=False, fit_intercept=True,\n          intercept_scaling=1, max_iter=100, multi_class='warn',\n          n_jobs=None, penalty='l2', random_state=None, solver='warn',\n          tol=0.0001, verbose=0, warm_start=False)"
          },
          "metadata": {}
        }
      ]
    },
    {
      "metadata": {
        "_uuid": "d88bb2d46ae202ab0d1313ba4bb8d16b2e6a3c24",
        "trusted": true
      },
      "cell_type": "code",
      "source": "y_pred = baseline_classifier.predict(X_test)    #predecting with test cases\naccuracy = accuracy_score(Y_test, y_pred)\nprint(\"Accuracy of baseline classifer (rounded to 3 digits) : \",round(accuracy,3))",
      "execution_count": 14,
      "outputs": [
        {
          "output_type": "stream",
          "text": "Accuracy of basline classifer (rounded to 3 digits) :  0.959\n",
          "name": "stdout"
        }
      ]
    },
    {
      "metadata": {
        "_uuid": "956570de91d1f036a36af58f337511940c68354d",
        "trusted": true
      },
      "cell_type": "code",
      "source": "print(confusion_matrix(Y_test,y_pred))",
      "execution_count": 15,
      "outputs": [
        {
          "output_type": "stream",
          "text": "[[107   3]\n [  4  57]]\n",
          "name": "stdout"
        }
      ]
    },
    {
      "metadata": {
        "_uuid": "f7b9e5ade7dd896bed6b5115540814f178c48a06",
        "trusted": true
      },
      "cell_type": "code",
      "source": "tn, fp, fn, tp = confusion_matrix(Y_test,y_pred).flatten() #converting from 2x2 array to a single row array\nprint ('tn, fp, fn, tp : ', (tn, fp, fn, tp))\nprint('Precision : ', precision_score(Y_test,y_pred))\nprint('Sensitivity/Recall(tp rate) : ', recall_score(Y_test,y_pred))",
      "execution_count": 16,
      "outputs": [
        {
          "output_type": "stream",
          "text": "tn, fp, fn, tp :  (107, 3, 4, 57)\nPrecision :  0.95\nSensitivity/Recall(tp rate) :  0.9344262295081968\n",
          "name": "stdout"
        }
      ]
    },
    {
      "metadata": {
        "_uuid": "ccb620f9041bf7c6a7ff1f4427fd25f33d8880b5"
      },
      "cell_type": "markdown",
      "source": "## Results \n* Baseline accuracy is around 96% which is decent\n* 4 False negatives i.e model predicted no, but they actually do have the disease\n* 3 False postivies i.e when the model predicted yes but don't have the disease\n* Precision is 0.95, which implies when model predicts yes, only 95% of the time it is correct\n* From sensitivity, we can observere that when it's actually yes(Malignant), only ***93%*** i.e 93 of 100 times does the model predict yes\n"
    },
    {
      "metadata": {
        "_uuid": "5a228b5061e15a6b7e631b2394c87f0c12e8b9f3"
      },
      "cell_type": "markdown",
      "source": "\n## **We have a baseline estimate, we now do some data analysis, feature engineering and feature selection  to see if we can improve results/predictions**"
    },
    {
      "metadata": {
        "_uuid": "8e6a84ea5f64c30d5ede0b30afcbbfa16d57da1e"
      },
      "cell_type": "markdown",
      "source": "# Check if the data is skewed\n> **i.e if any of the class is under/over-represented**"
    },
    {
      "metadata": {
        "_uuid": "d913816865d01db4b448fd50adf546b0bcd5eaab",
        "trusted": true
      },
      "cell_type": "code",
      "source": "# Checking visually using count plot\n\nsns.countplot(dataset['diagnosis'],label=\"Count\")",
      "execution_count": 17,
      "outputs": [
        {
          "output_type": "execute_result",
          "execution_count": 17,
          "data": {
            "text/plain": "<matplotlib.axes._subplots.AxesSubplot at 0x7f60069867f0>"
          },
          "metadata": {}
        },
        {
          "output_type": "display_data",
          "data": {
            "text/plain": "<Figure size 432x288 with 1 Axes>",
            "image/png": "[encoded data removed]"
          },
          "metadata": {}
        }
      ]
    },
    {
      "metadata": {
        "_uuid": "5116c9a18e989c5f35c0bf70702975c7c992fe25",
        "trusted": true
      },
      "cell_type": "code",
      "source": "# finding respective class count and their percentage wrt to total values\nclasses, count = np.unique(dataset['diagnosis'].values,return_counts=True)\nfor cls,val in zip(classes, count):\n    print('No. of occurences {}'.format(val))\n    print('{0} accounts for {1:.2f}% of total values\\n'.format(cls, round(100*val/count.sum(),3)))\n\nprint('Total values : {}'.format(dataset['diagnosis'].value_counts().sum()))",
      "execution_count": 18,
      "outputs": [
        {
          "output_type": "stream",
          "text": "No. of occurences 357\nB accounts for 62.74% of total values\n\nNo. of occurences 212\nM accounts for 37.26% of total values\n\nTotal values : 569\n",
          "name": "stdout"
        }
      ]
    },
    {
      "metadata": {
        "_uuid": "8fd82e529209a426153049382fdd24e74887d814"
      },
      "cell_type": "markdown",
      "source": "## It can be observed that there are not much class imbalance, we proceed with our analysis\n* **If data is suffering from imbalance, we might have do upsampling or downsampling **"
    },
    {
      "metadata": {
        "_uuid": "bf98acd4396fbc72b8150d8a554f5d4dffeb2ce1"
      },
      "cell_type": "markdown",
      "source": "# Checking for outliers\nWe can check outliers by\n- Statistics methods \n    - using Z-score\n- Quartile based \n    - using Interquartile range (IQR Score)\n- Clustering based \n    - usually using kMeans clustering\n\nWe will use visualizations when necessary\n\nI usually use Z score first and if necessary proceed with IQR\n\n>Z score is number of standard deviations by which the value of an observation or data point is above the mean value\n    >> i.e Z score = (Observation — Mean)/Standard Deviation\n    \n    General assumption is that usually all data will follow normal(gaussian) distribution and most of the data(>99%) lies in 3 SD range\n    \n > IQR is based on upper and lower bounds arrived based on 1st quartile q1 and 3rd quartile q3 values\n         \n     IQR = q3 - q1\n     Lower bound = q1 - 1.5 * iqr\n     Upper bound = q3 + 1.5 * iqr\n     \n     data not inside the bound are considered as outliers\n"
    },
    {
      "metadata": {
        "_uuid": "006912b467a03cf5a778dbddeb7c7f41b96790c1"
      },
      "cell_type": "markdown",
      "source": "## Using Z Score"
    },
    {
      "metadata": {
        "trusted": true,
        "_uuid": "4438373f280903cd6462d7fa47490adb3f3dfc15"
      },
      "cell_type": "code",
      "source": "z_score = 3\noutliers = X_data < X_data.mean() + (z_score * X_data.std())",
      "execution_count": 21,
      "outputs": []
    },
    {
      "metadata": {
        "trusted": true,
        "_uuid": "210fb8e650bc793ffad8c0493b3d9cbc89d5286f"
      },
      "cell_type": "code",
      "source": "# Columns wise datapoints which are outside 3SD, top 15 columns\nX_data[outliers].isnull().sum().sort_values(ascending=False).head(15)",
      "execution_count": 22,
      "outputs": [
        {
          "output_type": "execute_result",
          "execution_count": 22,
          "data": {
            "text/plain": "compactness_se             12\nsymmetry_se                11\ncompactness_worst          10\narea_worst                 10\nfractal_dimension_se       10\nfractal_dimension_worst     9\nsymmetry_worst              9\ncompactness_mean            9\nconcavity_mean              9\ntexture_se                  9\narea_mean                   8\nperimeter_se                8\nperimeter_mean              7\nfractal_dimension_mean      7\nradius_se                   7\ndtype: int64"
          },
          "metadata": {}
        }
      ]
    },
    {
      "metadata": {
        "trusted": true,
        "_uuid": "8a3ef95210700392b95ea16cfd040de90d09f6d7"
      },
      "cell_type": "code",
      "source": "# top 10 rows where datapoints outside 3 S.D and the outliers count in each row\nX_data[outliers].isnull().sum(axis=1).sort_values(ascending=False).head(10)",
      "execution_count": 24,
      "outputs": [
        {
          "output_type": "execute_result",
          "execution_count": 24,
          "data": {
            "text/plain": "122    15\n461    11\n3       8\n352     8\n212     7\n180     7\n82      7\n108     6\n152     6\n503     6\ndtype: int64"
          },
          "metadata": {}
        }
      ]
    },
    {
      "metadata": {
        "trusted": true,
        "_uuid": "5620c2e3af2a2dfaac30a8dcb320aa9422e435de"
      },
      "cell_type": "code",
      "source": "#total outliers in the data\nX_data[outliers].isnull().sum().sum()",
      "execution_count": 28,
      "outputs": [
        {
          "output_type": "execute_result",
          "execution_count": 28,
          "data": {
            "text/plain": "210"
          },
          "metadata": {}
        }
      ]
    },
    {
      "metadata": {
        "trusted": true,
        "_uuid": "f87d9e322081e08aef9371c8725f2c67e9465ce3"
      },
      "cell_type": "code",
      "source": "# top 10 rows contribution to total sum\nX_data[outliers].isnull().sum(axis=1).sort_values(ascending=False).head(10).sum()",
      "execution_count": 31,
      "outputs": [
        {
          "output_type": "execute_result",
          "execution_count": 31,
          "data": {
            "text/plain": "81"
          },
          "metadata": {}
        }
      ]
    },
    {
      "metadata": {
        "_uuid": "cd90ec59a8e710b9b1d902f97cdf0c581dc9d04a"
      },
      "cell_type": "markdown",
      "source": "We can see that total outliers in 3SD boundary are 210 (out of 569*30 points which accounts for less than a percent), and around 40% i.e 81 data points are from 10 rows, we can proceed with removing these observations(rows). However because I think we have limited observations, I'll also check with IQR"
    },
    {
      "metadata": {
        "_uuid": "e450570b56ce60706ef3ccadd3b1cd7152fd304a"
      },
      "cell_type": "markdown",
      "source": "## Using IQR score"
    },
    {
      "metadata": {
        "trusted": true,
        "_uuid": "bd6fd177cc305852124e22448e12d6abbc1831e7"
      },
      "cell_type": "code",
      "source": "#calculating 25, 75 percentile and calculating iqr, lowerbound and upperbound\nq1 = X_data.quantile(0.25)\nq3 = X_data.quantile(0.75)\niqr = q3 - q1\nlower_bound = q1 - (1.5 * iqr)\nupper_bound = q3 + (1.5 * iqr)",
      "execution_count": 57,
      "outputs": []
    },
    {
      "metadata": {
        "trusted": true,
        "_uuid": "8bbafcf232162828bbd24f7984baa0714728cd57"
      },
      "cell_type": "code",
      "source": "display = pd.concat([q1,q3,iqr,lower_bound, upper_bound],axis=1)\ndisplay.columns=['Q1','Q3','IQR','Lower bound', 'Upper bound']\ndisplay",
      "execution_count": 58,
      "outputs": [
        {
          "output_type": "execute_result",
          "execution_count": 58,
          "data": {
            "text/plain": "                                 Q1     ...       Upper bound\nradius_mean               11.700000     ...         21.900000\ntexture_mean              16.170000     ...         30.245000\nperimeter_mean            75.170000     ...        147.495000\narea_mean                420.300000     ...       1326.300000\nsmoothness_mean            0.086370     ...          0.133695\ncompactness_mean           0.064920     ...          0.228620\nconcavity_mean             0.029560     ...          0.282410\nconcave points_mean        0.020310     ...          0.154535\nsymmetry_mean              0.161900     ...          0.246400\nfractal_dimension_mean     0.057700     ...          0.078750\nradius_se                  0.232400     ...          0.848650\ntexture_se                 0.833900     ...          2.434150\nperimeter_se               1.606000     ...          5.983500\narea_se                   17.850000     ...         86.200000\nsmoothness_se              0.005169     ...          0.012611\ncompactness_se             0.013080     ...          0.061505\nconcavity_se               0.015090     ...          0.082490\nconcave points_se          0.007638     ...          0.025318\nsymmetry_se                0.015160     ...          0.035960\nfractal_dimension_se       0.002248     ...          0.008023\nradius_worst              13.010000     ...         27.460000\ntexture_worst             21.080000     ...         42.680000\nperimeter_worst           84.110000     ...        187.335000\narea_worst               515.300000     ...       1937.050000\nsmoothness_worst           0.116600     ...          0.190100\ncompactness_worst          0.147200     ...          0.626950\nconcavity_worst            0.114500     ...          0.785500\nconcave points_worst       0.064930     ...          0.306105\nsymmetry_worst             0.250400     ...          0.419150\nfractal_dimension_worst    0.071460     ...          0.123010\n\n[30 rows x 5 columns]",
            "text/html": "<div>\n<style scoped>\n    .dataframe tbody tr th:only-of-type {\n        vertical-align: middle;\n    }\n\n    .dataframe tbody tr th {\n        vertical-align: top;\n    }\n\n    .dataframe thead th {\n        text-align: right;\n    }\n</style>\n<table border=\"1\" class=\"dataframe\">\n  <thead>\n    <tr style=\"text-align: right;\">\n      <th></th>\n      <th>Q1</th>\n      <th>Q3</th>\n      <th>IQR</th>\n      <th>Lower bound</th>\n      <th>Upper bound</th>\n    </tr>\n  </thead>\n  <tbody>\n    <tr>\n      <th>radius_mean</th>\n      <td>11.700000</td>\n      <td>15.780000</td>\n      <td>4.080000</td>\n      <td>5.580000</td>\n      <td>21.900000</td>\n    </tr>\n    <tr>\n      <th>texture_mean</th>\n      <td>16.170000</td>\n      <td>21.800000</td>\n      <td>5.630000</td>\n      <td>7.725000</td>\n      <td>30.245000</td>\n    </tr>\n    <tr>\n      <th>perimeter_mean</th>\n      <td>75.170000</td>\n      <td>104.100000</td>\n      <td>28.930000</td>\n      <td>31.775000</td>\n      <td>147.495000</td>\n    </tr>\n    <tr>\n      <th>area_mean</th>\n      <td>420.300000</td>\n      <td>782.700000</td>\n      <td>362.400000</td>\n      <td>-123.300000</td>\n      <td>1326.300000</td>\n    </tr>\n    <tr>\n      <th>smoothness_mean</th>\n      <td>0.086370</td>\n      <td>0.105300</td>\n      <td>0.018930</td>\n      <td>0.057975</td>\n      <td>0.133695</td>\n    </tr>\n    <tr>\n      <th>compactness_mean</th>\n      <td>0.064920</td>\n      <td>0.130400</td>\n      <td>0.065480</td>\n      <td>-0.033300</td>\n      <td>0.228620</td>\n    </tr>\n    <tr>\n      <th>concavity_mean</th>\n      <td>0.029560</td>\n      <td>0.130700</td>\n      <td>0.101140</td>\n      <td>-0.122150</td>\n      <td>0.282410</td>\n    </tr>\n    <tr>\n      <th>concave points_mean</th>\n      <td>0.020310</td>\n      <td>0.074000</td>\n      <td>0.053690</td>\n      <td>-0.060225</td>\n      <td>0.154535</td>\n    </tr>\n    <tr>\n      <th>symmetry_mean</th>\n      <td>0.161900</td>\n      <td>0.195700</td>\n      <td>0.033800</td>\n      <td>0.111200</td>\n      <td>0.246400</td>\n    </tr>\n    <tr>\n      <th>fractal_dimension_mean</th>\n      <td>0.057700</td>\n      <td>0.066120</td>\n      <td>0.008420</td>\n      <td>0.045070</td>\n      <td>0.078750</td>\n    </tr>\n    <tr>\n      <th>radius_se</th>\n      <td>0.232400</td>\n      <td>0.478900</td>\n      <td>0.246500</td>\n      <td>-0.137350</td>\n      <td>0.848650</td>\n    </tr>\n    <tr>\n      <th>texture_se</th>\n      <td>0.833900</td>\n      <td>1.474000</td>\n      <td>0.640100</td>\n      <td>-0.126250</td>\n      <td>2.434150</td>\n    </tr>\n    <tr>\n      <th>perimeter_se</th>\n      <td>1.606000</td>\n      <td>3.357000</td>\n      <td>1.751000</td>\n      <td>-1.020500</td>\n      <td>5.983500</td>\n    </tr>\n    <tr>\n      <th>area_se</th>\n      <td>17.850000</td>\n      <td>45.190000</td>\n      <td>27.340000</td>\n      <td>-23.160000</td>\n      <td>86.200000</td>\n    </tr>\n    <tr>\n      <th>smoothness_se</th>\n      <td>0.005169</td>\n      <td>0.008146</td>\n      <td>0.002977</td>\n      <td>0.000704</td>\n      <td>0.012611</td>\n    </tr>\n    <tr>\n      <th>compactness_se</th>\n      <td>0.013080</td>\n      <td>0.032450</td>\n      <td>0.019370</td>\n      <td>-0.015975</td>\n      <td>0.061505</td>\n    </tr>\n    <tr>\n      <th>concavity_se</th>\n      <td>0.015090</td>\n      <td>0.042050</td>\n      <td>0.026960</td>\n      <td>-0.025350</td>\n      <td>0.082490</td>\n    </tr>\n    <tr>\n      <th>concave points_se</th>\n      <td>0.007638</td>\n      <td>0.014710</td>\n      <td>0.007072</td>\n      <td>-0.002970</td>\n      <td>0.025318</td>\n    </tr>\n    <tr>\n      <th>symmetry_se</th>\n      <td>0.015160</td>\n      <td>0.023480</td>\n      <td>0.008320</td>\n      <td>0.002680</td>\n      <td>0.035960</td>\n    </tr>\n    <tr>\n      <th>fractal_dimension_se</th>\n      <td>0.002248</td>\n      <td>0.004558</td>\n      <td>0.002310</td>\n      <td>-0.001217</td>\n      <td>0.008023</td>\n    </tr>\n    <tr>\n      <th>radius_worst</th>\n      <td>13.010000</td>\n      <td>18.790000</td>\n      <td>5.780000</td>\n      <td>4.340000</td>\n      <td>27.460000</td>\n    </tr>\n    <tr>\n      <th>texture_worst</th>\n      <td>21.080000</td>\n      <td>29.720000</td>\n      <td>8.640000</td>\n      <td>8.120000</td>\n      <td>42.680000</td>\n    </tr>\n    <tr>\n      <th>perimeter_worst</th>\n      <td>84.110000</td>\n      <td>125.400000</td>\n      <td>41.290000</td>\n      <td>22.175000</td>\n      <td>187.335000</td>\n    </tr>\n    <tr>\n      <th>area_worst</th>\n      <td>515.300000</td>\n      <td>1084.000000</td>\n      <td>568.700000</td>\n      <td>-337.750000</td>\n      <td>1937.050000</td>\n    </tr>\n    <tr>\n      <th>smoothness_worst</th>\n      <td>0.116600</td>\n      <td>0.146000</td>\n      <td>0.029400</td>\n      <td>0.072500</td>\n      <td>0.190100</td>\n    </tr>\n    <tr>\n      <th>compactness_worst</th>\n      <td>0.147200</td>\n      <td>0.339100</td>\n      <td>0.191900</td>\n      <td>-0.140650</td>\n      <td>0.626950</td>\n    </tr>\n    <tr>\n      <th>concavity_worst</th>\n      <td>0.114500</td>\n      <td>0.382900</td>\n      <td>0.268400</td>\n      <td>-0.288100</td>\n      <td>0.785500</td>\n    </tr>\n    <tr>\n      <th>concave points_worst</th>\n      <td>0.064930</td>\n      <td>0.161400</td>\n      <td>0.096470</td>\n      <td>-0.079775</td>\n      <td>0.306105</td>\n    </tr>\n    <tr>\n      <th>symmetry_worst</th>\n      <td>0.250400</td>\n      <td>0.317900</td>\n      <td>0.067500</td>\n      <td>0.149150</td>\n      <td>0.419150</td>\n    </tr>\n    <tr>\n      <th>fractal_dimension_worst</th>\n      <td>0.071460</td>\n      <td>0.092080</td>\n      <td>0.020620</td>\n      <td>0.040530</td>\n      <td>0.123010</td>\n    </tr>\n  </tbody>\n</table>\n</div>"
          },
          "metadata": {}
        }
      ]
    },
    {
      "metadata": {
        "trusted": true,
        "_uuid": "f2ab90e4d9698d907c91ce830ffdf8a192a094e4"
      },
      "cell_type": "code",
      "source": "# get outlier data points\n(X_data > upper_bound).head(1)",
      "execution_count": 69,
      "outputs": [
        {
          "output_type": "execute_result",
          "execution_count": 69,
          "data": {
            "text/plain": "   radius_mean           ...             fractal_dimension_worst\n0        False           ...                               False\n\n[1 rows x 30 columns]",
            "text/html": "<div>\n<style scoped>\n    .dataframe tbody tr th:only-of-type {\n        vertical-align: middle;\n    }\n\n    .dataframe tbody tr th {\n        vertical-align: top;\n    }\n\n    .dataframe thead th {\n        text-align: right;\n    }\n</style>\n<table border=\"1\" class=\"dataframe\">\n  <thead>\n    <tr style=\"text-align: right;\">\n      <th></th>\n      <th>radius_mean</th>\n      <th>texture_mean</th>\n      <th>perimeter_mean</th>\n      <th>area_mean</th>\n      <th>smoothness_mean</th>\n      <th>compactness_mean</th>\n      <th>concavity_mean</th>\n      <th>concave points_mean</th>\n      <th>symmetry_mean</th>\n      <th>fractal_dimension_mean</th>\n      <th>radius_se</th>\n      <th>texture_se</th>\n      <th>perimeter_se</th>\n      <th>area_se</th>\n      <th>smoothness_se</th>\n      <th>compactness_se</th>\n      <th>concavity_se</th>\n      <th>concave points_se</th>\n      <th>symmetry_se</th>\n      <th>fractal_dimension_se</th>\n      <th>radius_worst</th>\n      <th>texture_worst</th>\n      <th>perimeter_worst</th>\n      <th>area_worst</th>\n      <th>smoothness_worst</th>\n      <th>compactness_worst</th>\n      <th>concavity_worst</th>\n      <th>concave points_worst</th>\n      <th>symmetry_worst</th>\n      <th>fractal_dimension_worst</th>\n    </tr>\n  </thead>\n  <tbody>\n    <tr>\n      <th>0</th>\n      <td>False</td>\n      <td>False</td>\n      <td>False</td>\n      <td>False</td>\n      <td>False</td>\n      <td>True</td>\n      <td>True</td>\n      <td>False</td>\n      <td>False</td>\n      <td>False</td>\n      <td>True</td>\n      <td>False</td>\n      <td>True</td>\n      <td>True</td>\n      <td>False</td>\n      <td>False</td>\n      <td>False</td>\n      <td>False</td>\n      <td>False</td>\n      <td>False</td>\n      <td>False</td>\n      <td>False</td>\n      <td>False</td>\n      <td>True</td>\n      <td>False</td>\n      <td>True</td>\n      <td>False</td>\n      <td>False</td>\n      <td>True</td>\n      <td>False</td>\n    </tr>\n  </tbody>\n</table>\n</div>"
          },
          "metadata": {}
        }
      ]
    },
    {
      "metadata": {
        "trusted": true,
        "_uuid": "4119fab40a508e4a0d15ff013c66c2cd8ab064fe"
      },
      "cell_type": "code",
      "source": "(X_data < lower_bound).head(1)",
      "execution_count": 70,
      "outputs": [
        {
          "output_type": "execute_result",
          "execution_count": 70,
          "data": {
            "text/plain": "   radius_mean           ...             fractal_dimension_worst\n0        False           ...                               False\n\n[1 rows x 30 columns]",
            "text/html": "<div>\n<style scoped>\n    .dataframe tbody tr th:only-of-type {\n        vertical-align: middle;\n    }\n\n    .dataframe tbody tr th {\n        vertical-align: top;\n    }\n\n    .dataframe thead th {\n        text-align: right;\n    }\n</style>\n<table border=\"1\" class=\"dataframe\">\n  <thead>\n    <tr style=\"text-align: right;\">\n      <th></th>\n      <th>radius_mean</th>\n      <th>texture_mean</th>\n      <th>perimeter_mean</th>\n      <th>area_mean</th>\n      <th>smoothness_mean</th>\n      <th>compactness_mean</th>\n      <th>concavity_mean</th>\n      <th>concave points_mean</th>\n      <th>symmetry_mean</th>\n      <th>fractal_dimension_mean</th>\n      <th>radius_se</th>\n      <th>texture_se</th>\n      <th>perimeter_se</th>\n      <th>area_se</th>\n      <th>smoothness_se</th>\n      <th>compactness_se</th>\n      <th>concavity_se</th>\n      <th>concave points_se</th>\n      <th>symmetry_se</th>\n      <th>fractal_dimension_se</th>\n      <th>radius_worst</th>\n      <th>texture_worst</th>\n      <th>perimeter_worst</th>\n      <th>area_worst</th>\n      <th>smoothness_worst</th>\n      <th>compactness_worst</th>\n      <th>concavity_worst</th>\n      <th>concave points_worst</th>\n      <th>symmetry_worst</th>\n      <th>fractal_dimension_worst</th>\n    </tr>\n  </thead>\n  <tbody>\n    <tr>\n      <th>0</th>\n      <td>False</td>\n      <td>False</td>\n      <td>False</td>\n      <td>False</td>\n      <td>False</td>\n      <td>False</td>\n      <td>False</td>\n      <td>False</td>\n      <td>False</td>\n      <td>False</td>\n      <td>False</td>\n      <td>False</td>\n      <td>False</td>\n      <td>False</td>\n      <td>False</td>\n      <td>False</td>\n      <td>False</td>\n      <td>False</td>\n      <td>False</td>\n      <td>False</td>\n      <td>False</td>\n      <td>False</td>\n      <td>False</td>\n      <td>False</td>\n      <td>False</td>\n      <td>False</td>\n      <td>False</td>\n      <td>False</td>\n      <td>False</td>\n      <td>False</td>\n    </tr>\n  </tbody>\n</table>\n</div>"
          },
          "metadata": {}
        }
      ]
    },
    {
      "metadata": {
        "trusted": true,
        "_uuid": "ae31c86ab1c5732ceb1db89465620f7cb7471958"
      },
      "cell_type": "code",
      "source": "",
      "execution_count": null,
      "outputs": []
    },
    {
      "metadata": {
        "trusted": true,
        "_uuid": "8094296faff3a9f711a83cdbb6abe419258ba200"
      },
      "cell_type": "code",
      "source": "",
      "execution_count": null,
      "outputs": []
    },
    {
      "metadata": {
        "_uuid": "090f0aaf4705b3abe8c1bb27f1779377f46c8992"
      },
      "cell_type": "markdown",
      "source": "# Feature Selection "
    },
    {
      "metadata": {
        "_uuid": "4e3daa148412386f40970ad213286ca0cde66c7b"
      },
      "cell_type": "markdown",
      "source": "## Correlation - To remove "
    },
    {
      "metadata": {
        "trusted": true,
        "_uuid": "5dbe075fbf7bcac181103a8e94fb8aff63f5b838"
      },
      "cell_type": "code",
      "source": "",
      "execution_count": null,
      "outputs": []
    },
    {
      "metadata": {
        "trusted": true,
        "_uuid": "f36e31c538c7ca7045c7159c4afae31d76743524"
      },
      "cell_type": "code",
      "source": "",
      "execution_count": null,
      "outputs": []
    },
    {
      "metadata": {
        "trusted": true,
        "_uuid": "e5065e6b0b1407ad8ea03d1949eeb312c02e06e0"
      },
      "cell_type": "code",
      "source": "",
      "execution_count": null,
      "outputs": []
    },
    {
      "metadata": {
        "trusted": true,
        "_uuid": "022deb43bfdb33b2bb289f526d1da928118b1a24"
      },
      "cell_type": "code",
      "source": "",
      "execution_count": null,
      "outputs": []
    },
    {
      "metadata": {
        "_uuid": "347e3067204345866e0b2bb6ff338f2dc4a56b95"
      },
      "cell_type": "markdown",
      "source": ""
    },
    {
      "metadata": {
        "trusted": true,
        "_uuid": "5f9b29db04b84557021de44a258dad1316a6b2d2"
      },
      "cell_type": "code",
      "source": "",
      "execution_count": null,
      "outputs": []
    },
    {
      "metadata": {
        "trusted": true,
        "_uuid": "7e17e7bbf37630e4d89d55de8e9ab31cd6448818"
      },
      "cell_type": "code",
      "source": "",
      "execution_count": null,
      "outputs": []
    },
    {
      "metadata": {
        "trusted": true,
        "_uuid": "b35be3e521cd6fc9f845309061fcb31c63af999c"
      },
      "cell_type": "code",
      "source": "",
      "execution_count": null,
      "outputs": []
    },
    {
      "metadata": {
        "_uuid": "62d3feac8801ea1bdb0af271ac5ebba0e578995c"
      },
      "cell_type": "markdown",
      "source": "# Feature scaling (Data normalization)\n\nIt is optional step\n- depends on the algorithm/model we plan to implement and on data we use\n    - it allows for model to learn\\features to contribute relative to their importance rather than their scale\n\nIf it is required to change the algorithm, we have check feature scale again\n\nSome algos that require feature scaling:\n\n    Logistic regression\n    SVMs\n    Perceptrons\n    Neural networks\n    PCA    \n> ***Usually Distance based algos***\n\nModels which do not require:\n\n    Decision trees (and random forests)\n    Naive Bayes\n  \n"
    },
    {
      "metadata": {
        "_uuid": "c1f7792051c0c137006f40b43ba1696ebda950c7",
        "trusted": true
      },
      "cell_type": "code",
      "source": "",
      "execution_count": null,
      "outputs": []
    },
    {
      "metadata": {
        "_uuid": "1c57f061f642d90aadd3d48f48854482d146e328",
        "trusted": true
      },
      "cell_type": "code",
      "source": "",
      "execution_count": null,
      "outputs": []
    },
    {
      "metadata": {
        "_uuid": "12ac33a3b6cb7f3a4a0a798e019214503bfcda00",
        "trusted": true
      },
      "cell_type": "code",
      "source": "",
      "execution_count": null,
      "outputs": []
    },
    {
      "metadata": {
        "_uuid": "57371e1f308a859267bdfa30cb34f4b56a55d627",
        "trusted": true
      },
      "cell_type": "code",
      "source": "",
      "execution_count": null,
      "outputs": []
    },
    {
      "metadata": {
        "_uuid": "e705ca8fcfcc65f94ebf327e5a43d0e7fa96ecc8",
        "trusted": true
      },
      "cell_type": "code",
      "source": "",
      "execution_count": null,
      "outputs": []
    },
    {
      "metadata": {
        "_uuid": "bcb2ff16e9cf7dab6fcc322bcb40bb4dbc4270b8",
        "trusted": true
      },
      "cell_type": "code",
      "source": "",
      "execution_count": null,
      "outputs": []
    },
    {
      "metadata": {
        "_uuid": "abcbe4650d6962bcaadc06f6fdbcec450510baa0",
        "trusted": true
      },
      "cell_type": "code",
      "source": "",
      "execution_count": null,
      "outputs": []
    },
    {
      "metadata": {
        "_uuid": "be094367b46f1a29d1a0861e447e555a97a7dbf7",
        "trusted": true
      },
      "cell_type": "code",
      "source": "",
      "execution_count": null,
      "outputs": []
    },
    {
      "metadata": {
        "_uuid": "65ba8a55a2fc5270c2203165cc4b67cd0f7ba515",
        "trusted": true
      },
      "cell_type": "code",
      "source": "",
      "execution_count": null,
      "outputs": []
    },
    {
      "metadata": {
        "_uuid": "4b78c1892931dffacc9215b094a066502979a373"
      },
      "cell_type": "markdown",
      "source": ""
    },
    {
      "metadata": {
        "_uuid": "9563909c8e4ca7da047369dab3fcea5f5dd58a94",
        "trusted": true
      },
      "cell_type": "code",
      "source": "",
      "execution_count": null,
      "outputs": []
    },
    {
      "metadata": {
        "trusted": true,
        "_uuid": "6dd70a4dca615e522d15bbd7190eebf0adbc89b6"
      },
      "cell_type": "code",
      "source": "",
      "execution_count": null,
      "outputs": []
    },
    {
      "metadata": {
        "trusted": true,
        "_uuid": "e2352b4797e7ae92480eea45669ec957ac532a8c"
      },
      "cell_type": "code",
      "source": "",
      "execution_count": null,
      "outputs": []
    },
    {
      "metadata": {
        "trusted": true,
        "_uuid": "d384cb49c167dfd9cd039d7184f2a3ddf680e4b2"
      },
      "cell_type": "code",
      "source": "",
      "execution_count": null,
      "outputs": []
    },
    {
      "metadata": {
        "trusted": true,
        "_uuid": "5cb871d7f28f0e3424f292b145e2736e9f3eafaa"
      },
      "cell_type": "code",
      "source": "",
      "execution_count": null,
      "outputs": []
    }
  ],
  "metadata": {
    "kernelspec": {
      "display_name": "Python 3",
      "language": "python",
      "name": "python3"
    },
    "language_info": {
      "name": "python",
      "version": "3.6.6",
      "mimetype": "text/x-python",
      "codemirror_mode": {
        "name": "ipython",
        "version": 3
      },
      "pygments_lexer": "ipython3",
      "nbconvert_exporter": "python",
      "file_extension": ".py"
    }
  },
  "nbformat": 4,
  "nbformat_minor": 1
}