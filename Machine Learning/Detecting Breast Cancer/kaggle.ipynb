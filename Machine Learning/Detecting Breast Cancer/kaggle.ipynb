{
 "cells": [
  {
   "cell_type": "markdown",
   "metadata": {
    "_uuid": "622a027fb064a39536a19c1a18c0874296132e03"
   },
   "source": [
    "## My first attempt at making \"tutorial\" (kind-of) notes \n",
    "- explaining why I took certain steps and documenting thought process"
   ]
  },
  {
   "cell_type": "code",
   "execution_count": null,
   "metadata": {
    "_cell_guid": "b1076dfc-b9ad-4769-8c92-a6c4dae69d19",
    "_uuid": "8f2839f25d086af736a60e9eeb907d3b93b6e0e5"
   },
   "outputs": [],
   "source": [
    "from platform import python_version\n",
    "print(python_version())\n",
    "#just checking"
   ]
  },
  {
   "cell_type": "code",
   "execution_count": null,
   "metadata": {
    "_cell_guid": "79c7e3d0-c299-4dcb-8224-4455121ee9b0",
    "_uuid": "d629ff2d2480ee46fbb7e2d37f6b5fab8052498a"
   },
   "outputs": [],
   "source": [
    "import numpy as np\n",
    "import pandas as pd\n",
    "import matplotlib.pyplot as plt\n",
    "import seaborn as sns\n",
    "import warnings \n",
    "\n",
    "#To ignore warnings, to display warning only once use 'once', \n",
    "#change it to 'default' to get default settings\n",
    "warnings.filterwarnings('ignore') \n",
    "\n",
    "%matplotlib inline"
   ]
  },
  {
   "cell_type": "code",
   "execution_count": null,
   "metadata": {
    "_uuid": "e846f0fd91d6103d6ee450b188625fa000ca0920"
   },
   "outputs": [],
   "source": [
    "from sklearn.model_selection import train_test_split\n",
    "from sklearn.metrics import *\n",
    "# Consiously importing modules/methods when required "
   ]
  },
  {
   "cell_type": "code",
   "execution_count": null,
   "metadata": {
    "_uuid": "8a9ad556e65360957de5bda20aebbc0205c6b7cf"
   },
   "outputs": [],
   "source": [
    "datalake = '../input/data.csv'\n",
    "dataset = pd.read_csv(datalake)"
   ]
  },
  {
   "cell_type": "code",
   "execution_count": null,
   "metadata": {
    "_uuid": "79f49ff8a28eeae3458bf00e6cecd2487b2b8e33"
   },
   "outputs": [],
   "source": [
    "dataset.head(2)"
   ]
  },
  {
   "cell_type": "code",
   "execution_count": null,
   "metadata": {
    "_uuid": "6dc0fb90abb5c8a81cbb1e62a03ae58c280cbb28"
   },
   "outputs": [],
   "source": [
    "#removing 'id' and 'Unnamed: 32' columns and\n",
    "# copying X and target label 'diagnosis' to seperate DataFrames for analysis\n",
    "dataset.drop(['id','Unnamed: 32'], axis=1, inplace = True) #removing from dataset directly\n",
    "X_data = dataset.drop('diagnosis', axis = 1)\n",
    "Y_data = dataset.diagnosis #note that it becomes a pandas Series object"
   ]
  },
  {
   "cell_type": "code",
   "execution_count": null,
   "metadata": {
    "_uuid": "9e5ffe8cefd543d98abd54d8cdc6e9f65a1f4673"
   },
   "outputs": [],
   "source": [
    "X_data.head(2) #checking if we have it as required"
   ]
  },
  {
   "cell_type": "code",
   "execution_count": null,
   "metadata": {
    "_uuid": "d3bc20b30a03fed1ee83db46da1ee013cd8829fc"
   },
   "outputs": [],
   "source": [
    "Y_data.head(2)"
   ]
  },
  {
   "cell_type": "code",
   "execution_count": null,
   "metadata": {
    "_uuid": "56bf071fb44353c6a195021616c5fabbfb6aafae"
   },
   "outputs": [],
   "source": [
    "#checking if any null values in entire dataset\n",
    "dataset.info()"
   ]
  },
  {
   "cell_type": "markdown",
   "metadata": {
    "_uuid": "306ea85135808d3c79f1f21935d82666790f24c5"
   },
   "source": [
    "- Total 569 datapoints(entries), 30 features(float), 1 target(object) ***can cross verify with dataset.shape***\n",
    "- No missing/null values found\n",
    "- no objects found apart from target_col - diagnosis; ***i.e we can directly proceed with analysis of X without encoding***  \n"
   ]
  },
  {
   "cell_type": "code",
   "execution_count": null,
   "metadata": {
    "_uuid": "dca9fd07add3c9d4835daf67e9643169140a53fd"
   },
   "outputs": [],
   "source": []
  },
  {
   "cell_type": "code",
   "execution_count": null,
   "metadata": {
    "_uuid": "3e0a9f0affae6d22837789aa6afb7f4b441c582b"
   },
   "outputs": [],
   "source": [
    "#converting Y to machine understandable language i.e numbers\n",
    "classes = list(Y_data.unique()) #get list of unique classes\n",
    "values = [1 if x=='M' else 0 for x in classes] # assign corresponding values for classes\n",
    "print('Unique Classes : {}'.format(classes))\n",
    "print('Respective values assigned : {}'.format(values))"
   ]
  },
  {
   "cell_type": "markdown",
   "metadata": {
    "_uuid": "857a76132f35efeb5196665cac1b60ef8affd653"
   },
   "source": [
    "## As we are trying to predict if cancer is detected, I assigned 1 to Malignant class (M)\n",
    "\n",
    "It is general convention, that the object/class to-be/if detected to corresponds to 1; we can proceed the other way also.\n",
    "\n",
    "### In Machine learning if we have multi-class we can use one-vs-all approach; for Neural networks changing neurons in o/p layer should be enough"
   ]
  },
  {
   "cell_type": "code",
   "execution_count": null,
   "metadata": {
    "_uuid": "a4483319dce37940dc6a22118ab288db2f4eeb18"
   },
   "outputs": [],
   "source": [
    "# assign values to classes and update dataset\n",
    "Y_data = Y_data.map(dict(zip(classes, values)))\n",
    "Y_data.head()"
   ]
  },
  {
   "cell_type": "markdown",
   "metadata": {
    "_uuid": "3b708082407b73d7170bad2b76db863b016b3a48"
   },
   "source": [
    "# Present data is valid to fit any model, so we will first try to get a baseline estimate before proceeding with data analysis and proceed on to other models final model\n",
    "\n",
    "### As this is a classification model I take Simple Linear Classifier (Logistic Regression) to be my baseline model"
   ]
  },
  {
   "cell_type": "markdown",
   "metadata": {
    "_uuid": "c2201990f955a61637e016c7597693ef15aba9b7"
   },
   "source": [
    "# Modeling Logistic Regression"
   ]
  },
  {
   "cell_type": "code",
   "execution_count": null,
   "metadata": {
    "_uuid": "816008ceece0ea802e215cfbe98f5c9ba857b3f2"
   },
   "outputs": [],
   "source": [
    "#import required modules\n",
    "from sklearn.linear_model import LogisticRegression\n",
    "\n",
    "#used below metrics from sklearn.metrics\n",
    "    # accuracy_score\n",
    "    # confusion_matrix\n",
    "    # precision_score\n",
    "    # recall_score"
   ]
  },
  {
   "cell_type": "code",
   "execution_count": null,
   "metadata": {
    "_uuid": "3a8c5b4ffdc99eff23ebbcdab8c3ad79b3a29514"
   },
   "outputs": [],
   "source": [
    "seed = 2913\n",
    "val_ratio = 0.3 \n",
    "X_train, X_test, Y_train, Y_test = train_test_split(X_data,Y_data, test_size = val_ratio, random_state = seed)\n",
    "baseline_classifier = LogisticRegression()\n",
    "baseline_classifier.fit(X_train,Y_train)  #fitting the data to model"
   ]
  },
  {
   "cell_type": "code",
   "execution_count": null,
   "metadata": {
    "_uuid": "d88bb2d46ae202ab0d1313ba4bb8d16b2e6a3c24"
   },
   "outputs": [],
   "source": [
    "y_pred = baseline_classifier.predict(X_test)    #predecting with test cases\n",
    "accuracy = accuracy_score(Y_test, y_pred)\n",
    "print(\"Accuracy of basline classifer (rounded to 3 digits) : \",round(accuracy,3))"
   ]
  },
  {
   "cell_type": "code",
   "execution_count": null,
   "metadata": {
    "_uuid": "956570de91d1f036a36af58f337511940c68354d"
   },
   "outputs": [],
   "source": [
    "print(confusion_matrix(Y_test,y_pred))"
   ]
  },
  {
   "cell_type": "code",
   "execution_count": null,
   "metadata": {
    "_uuid": "f7b9e5ade7dd896bed6b5115540814f178c48a06"
   },
   "outputs": [],
   "source": [
    "tn, fp, fn, tp = confusion_matrix(Y_test,y_pred).flatten() #converting from 2x2 array to a single row array\n",
    "print ('tn, fp, fn, tp : ', (tn, fp, fn, tp))\n",
    "print('Precision : ', precision_score(Y_test,y_pred))\n",
    "print('Sensitivity/Recall(tp rate) : ', recall_score(Y_test,y_pred))"
   ]
  },
  {
   "cell_type": "markdown",
   "metadata": {
    "_uuid": "ccb620f9041bf7c6a7ff1f4427fd25f33d8880b5"
   },
   "source": [
    "## Results \n",
    "* Baseline accuracy is around 96% which is decent\n",
    "* 4 False negatives i.e model predicted no, but they actually do have the disease\n",
    "* 3 False postivies i.e when the model predicted yes but don't have the disease\n",
    "* Precision is 0.95, which implies when model predicts yes, only 95% of the time it is correct\n",
    "* From sensitivity, we can observere that when it's actually yes(Malignant), only ***93%*** i.e 93 of 100 times does the model predict yes\n"
   ]
  },
  {
   "cell_type": "markdown",
   "metadata": {
    "_uuid": "5a228b5061e15a6b7e631b2394c87f0c12e8b9f3"
   },
   "source": [
    "\n",
    "## **We have a baseline estimate, we now do some data analysis and feature engineering to see if we can improve results predictions**"
   ]
  },
  {
   "cell_type": "markdown",
   "metadata": {
    "_uuid": "8e6a84ea5f64c30d5ede0b30afcbbfa16d57da1e"
   },
   "source": [
    "# Check if the data is skewed\n",
    "> **i.e if any of the class is under/over-represented**"
   ]
  },
  {
   "cell_type": "code",
   "execution_count": null,
   "metadata": {
    "_uuid": "d913816865d01db4b448fd50adf546b0bcd5eaab"
   },
   "outputs": [],
   "source": [
    "# Checking visually using count plot\n",
    "\n",
    "sns.countplot(dataset['diagnosis'],label=\"Count\")"
   ]
  },
  {
   "cell_type": "code",
   "execution_count": 99,
   "metadata": {
    "_uuid": "5116c9a18e989c5f35c0bf70702975c7c992fe25"
   },
   "outputs": [
    {
     "name": "stdout",
     "output_type": "stream",
     "text": [
      "No. of occurences 357\n",
      "B accounts for 62.74% of total values\n",
      "\n",
      "No. of occurences 212\n",
      "M accounts for 37.26% of total values\n",
      "\n",
      "Total values : 569\n"
     ]
    }
   ],
   "source": [
    "# finding respective class count and their percentage wrt to total values\n",
    "classes, count = np.unique(dataset['diagnosis'].values,return_counts=True)\n",
    "for cls,val in zip(classes, count):\n",
    "    print('No. of occurences {}'.format(val))\n",
    "    print('{0} accounts for {1:.2f}% of total values\\n'.format(cls, round(100*val/count.sum(),3)))\n",
    "\n",
    "print('Total values : {}'.format(dataset['diagnosis'].value_counts().sum()))"
   ]
  },
  {
   "cell_type": "markdown",
   "metadata": {
    "_uuid": "8fd82e529209a426153049382fdd24e74887d814"
   },
   "source": [
    "## It can be observed that there are not much class imbalance, we proceed with our analysis\n",
    "* **If data is suffering from imbalance, we might have do upsampling or downsampling **"
   ]
  },
  {
   "cell_type": "markdown",
   "metadata": {
    "_uuid": "62d3feac8801ea1bdb0af271ac5ebba0e578995c"
   },
   "source": [
    "# Feature scaling (Data normalization)\n",
    "\n",
    "It is optional step\n",
    "- depends on the algorithm/model we plan to implement and on data we use\n",
    "    - it allows for model to learn\\features to contribute relative to their importance rather than their scale\n",
    "\n",
    "If it is required to change the algorithm, we have check feature scale again\n",
    "\n",
    "Some algos that require feature scaling:\n",
    "\n",
    "    Logistic regression\n",
    "    SVMs\n",
    "    Perceptrons\n",
    "    Neural networks\n",
    "    PCA    \n",
    "> ***Usually Distance based algos***\n",
    "\n",
    "Models which do not require:\n",
    "\n",
    "    Decision trees (and random forests)\n",
    "    Naive Bayes\n",
    "  \n"
   ]
  },
  {
   "cell_type": "code",
   "execution_count": null,
   "metadata": {
    "_uuid": "c1f7792051c0c137006f40b43ba1696ebda950c7"
   },
   "outputs": [],
   "source": []
  },
  {
   "cell_type": "code",
   "execution_count": null,
   "metadata": {
    "_uuid": "1c57f061f642d90aadd3d48f48854482d146e328"
   },
   "outputs": [],
   "source": []
  },
  {
   "cell_type": "code",
   "execution_count": null,
   "metadata": {
    "_uuid": "12ac33a3b6cb7f3a4a0a798e019214503bfcda00"
   },
   "outputs": [],
   "source": []
  },
  {
   "cell_type": "code",
   "execution_count": null,
   "metadata": {
    "_uuid": "57371e1f308a859267bdfa30cb34f4b56a55d627"
   },
   "outputs": [],
   "source": []
  },
  {
   "cell_type": "code",
   "execution_count": null,
   "metadata": {
    "_uuid": "e705ca8fcfcc65f94ebf327e5a43d0e7fa96ecc8"
   },
   "outputs": [],
   "source": []
  },
  {
   "cell_type": "code",
   "execution_count": null,
   "metadata": {
    "_uuid": "bcb2ff16e9cf7dab6fcc322bcb40bb4dbc4270b8"
   },
   "outputs": [],
   "source": []
  },
  {
   "cell_type": "code",
   "execution_count": null,
   "metadata": {
    "_uuid": "abcbe4650d6962bcaadc06f6fdbcec450510baa0"
   },
   "outputs": [],
   "source": []
  },
  {
   "cell_type": "code",
   "execution_count": null,
   "metadata": {
    "_uuid": "be094367b46f1a29d1a0861e447e555a97a7dbf7"
   },
   "outputs": [],
   "source": []
  },
  {
   "cell_type": "code",
   "execution_count": null,
   "metadata": {
    "_uuid": "65ba8a55a2fc5270c2203165cc4b67cd0f7ba515"
   },
   "outputs": [],
   "source": []
  },
  {
   "cell_type": "markdown",
   "metadata": {
    "_uuid": "4b78c1892931dffacc9215b094a066502979a373"
   },
   "source": [
    "# Checking for outliers\n"
   ]
  },
  {
   "cell_type": "code",
   "execution_count": null,
   "metadata": {
    "_uuid": "9563909c8e4ca7da047369dab3fcea5f5dd58a94"
   },
   "outputs": [],
   "source": []
  }
 ],
 "metadata": {
  "kernelspec": {
   "display_name": "Python 3",
   "language": "python",
   "name": "python3"
  },
  "language_info": {
   "codemirror_mode": {
    "name": "ipython",
    "version": 3
   },
   "file_extension": ".py",
   "mimetype": "text/x-python",
   "name": "python",
   "nbconvert_exporter": "python",
   "pygments_lexer": "ipython3",
   "version": "3.6.4"
  }
 },
 "nbformat": 4,
 "nbformat_minor": 1
}
