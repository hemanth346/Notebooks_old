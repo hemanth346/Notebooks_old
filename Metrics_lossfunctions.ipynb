{
 "cells": [
  {
   "cell_type": "code",
   "execution_count": 1,
   "metadata": {},
   "outputs": [],
   "source": [
    "import numpy as np"
   ]
  },
  {
   "cell_type": "code",
   "execution_count": 2,
   "metadata": {},
   "outputs": [],
   "source": [
    "import logging\n",
    "\n",
    "from sklearn.datasets import make_classification\n",
    "from sklearn.datasets import make_regression\n",
    "from sklearn.model_selection import train_test_split\n",
    "from sklearn.linear_model import LinearRegression, LogisticRegression\n",
    "from sklearn import metrics"
   ]
  },
  {
   "cell_type": "code",
   "execution_count": 3,
   "metadata": {},
   "outputs": [],
   "source": [
    "logging.basicConfig(level=logging.DEBUG)"
   ]
  },
  {
   "cell_type": "code",
   "execution_count": 19,
   "metadata": {},
   "outputs": [],
   "source": [
    "def classification():\n",
    "    # Generate a random binary classification problem.\n",
    "    X, y = make_classification(n_samples=500, n_features=10, n_informative=10,random_state=1111, \n",
    "                               n_classes=2,class_sep=2.5, n_redundant=0)\n",
    "\n",
    "    X_train, X_test, y_train, y_test = train_test_split(X, y, test_size=0.15, random_state=1111)\n",
    "\n",
    "    model = LogisticRegression()\n",
    "    model.fit(X_train, y_train)\n",
    "    predictions = model.predict(X_test)\n",
    "    print('classification, roc auc score: %s' % metrics.roc_auc_score(y_test, predictions))\n",
    "    return y_test, predictions"
   ]
  },
  {
   "cell_type": "code",
   "execution_count": 20,
   "metadata": {},
   "outputs": [],
   "source": [
    "def regression():\n",
    "    # Generate a random regression problem\n",
    "    X, y = make_regression(n_samples=500, n_features=5, n_informative=5,\n",
    "                           n_targets=1, noise=0.05, random_state=1111,bias=0.5)\n",
    "\n",
    "    X_train, X_test, y_train, y_test = train_test_split(X, y, test_size=0.1, random_state=1111)\n",
    "\n",
    "    model = LinearRegression()\n",
    "    model.fit(X_train, y_train)\n",
    "    predictions = model.predict(X_test)\n",
    "    print('regression, mse: %s' % metrics.mean_squared_error(y_test.flatten(), predictions.flatten()))\n",
    "    return y_test, predictions"
   ]
  },
  {
   "cell_type": "code",
   "execution_count": 21,
   "metadata": {},
   "outputs": [
    {
     "name": "stdout",
     "output_type": "stream",
     "text": [
      "classification, roc auc score: 0.9714285714285714\n"
     ]
    },
    {
     "name": "stderr",
     "output_type": "stream",
     "text": [
      "C:\\Users\\kaheman\\AppData\\Local\\Continuum\\anaconda3\\lib\\site-packages\\sklearn\\linear_model\\logistic.py:433: FutureWarning: Default solver will be changed to 'lbfgs' in 0.22. Specify a solver to silence this warning.\n",
      "  FutureWarning)\n"
     ]
    }
   ],
   "source": [
    "c_actual, c_predicted = classification()"
   ]
  },
  {
   "cell_type": "code",
   "execution_count": null,
   "metadata": {},
   "outputs": [],
   "source": []
  },
  {
   "cell_type": "markdown",
   "metadata": {},
   "source": [
    "Not sure why we use it yet, will have to check with some encoded array\n",
    "- np.argmax() Returns the indices of the maximum values along an axis, \n",
    "- using axis 1, we are taking along all rows i.e observations which has max val which here is one, as the input matrix would already have been one hot encoded and we are unhot encoding it\n",
    "\n"
   ]
  },
  {
   "cell_type": "code",
   "execution_count": 22,
   "metadata": {},
   "outputs": [],
   "source": [
    "def unhot(function):\n",
    "    \"\"\"Convert one-hot representation into one column.\"\"\"\n",
    "    def wrapper(actual, predicted):\n",
    "        if len(actual.shape) > 1 and actual.shape[1] > 1:\n",
    "            actual = actual.argmax(axis=1)\n",
    "        if len(predicted.shape) > 1 and predicted.shape[1] > 1:\n",
    "            predicted = predicted.argmax(axis=1)\n",
    "        return function(actual, predicted)\n",
    "    return wrapper\n"
   ]
  },
  {
   "cell_type": "code",
   "execution_count": 23,
   "metadata": {},
   "outputs": [],
   "source": [
    "@unhot\n",
    "def printing(c_actual, c_predicted):\n",
    "    print(\"c_actual\", c_actual)\n",
    "    print(\"c_predicted\", c_predicted)"
   ]
  },
  {
   "cell_type": "code",
   "execution_count": 24,
   "metadata": {},
   "outputs": [
    {
     "name": "stdout",
     "output_type": "stream",
     "text": [
      "c_actual [1 1 1 1 0 1 1 0 0 0 1 0 1 0 1 1 1 0 0 1 0 1 1 0 0 0 1 1 0 0 1 1 1 0 0 1 1\n",
      " 0 0 0 1 1 0 1 1 1 1 1 0 0 1 0 1 1 0 1 0 0 1 0 1 0 0 1 1 1 0 0 0 1 1 1 0 0\n",
      " 0]\n",
      "c_predicted [1 1 1 1 0 1 1 0 0 0 1 0 1 0 1 1 1 0 0 1 0 1 1 0 0 0 1 1 0 1 1 1 1 0 0 1 1\n",
      " 0 0 0 1 1 0 1 1 1 1 1 0 0 1 0 1 1 0 1 0 0 1 0 1 0 0 1 1 1 1 0 0 1 1 1 0 0\n",
      " 0]\n",
      "[1 1 1 1 0 1 1 0 0 0 1 0 1 0 1 1 1 0 0 1 0 1 1 0 0 0 1 1 0 0 1 1 1 0 0 1 1\n",
      " 0 0 0 1 1 0 1 1 1 1 1 0 0 1 0 1 1 0 1 0 0 1 0 1 0 0 1 1 1 0 0 0 1 1 1 0 0\n",
      " 0] [1 1 1 1 0 1 1 0 0 0 1 0 1 0 1 1 1 0 0 1 0 1 1 0 0 0 1 1 0 1 1 1 1 0 0 1 1\n",
      " 0 0 0 1 1 0 1 1 1 1 1 0 0 1 0 1 1 0 1 0 0 1 0 1 0 0 1 1 1 1 0 0 1 1 1 0 0\n",
      " 0]\n"
     ]
    }
   ],
   "source": [
    "printing(c_actual, c_predicted)\n",
    "print(c_actual, c_predicted)"
   ]
  },
  {
   "cell_type": "markdown",
   "metadata": {},
   "source": [
    "---\n",
    "\n",
    "# Metrics"
   ]
  },
  {
   "cell_type": "code",
   "execution_count": 53,
   "metadata": {},
   "outputs": [
    {
     "name": "stdout",
     "output_type": "stream",
     "text": [
      "[ 0  4  8 12 16 20] [10 14 18 22 26 30]\n"
     ]
    }
   ],
   "source": [
    "ca, cp = c_actual, c_predicted\n",
    "ca = np.arange(0,21,4)\n",
    "cp = np.arange(10,31,4)\n",
    "print(ca, cp)\n"
   ]
  },
  {
   "cell_type": "code",
   "execution_count": 59,
   "metadata": {},
   "outputs": [
    {
     "name": "stdout",
     "output_type": "stream",
     "text": [
      "[10 10 10 10 10 10]\n"
     ]
    },
    {
     "data": {
      "text/plain": [
       "array([10, 10, 10, 10, 10, 10])"
      ]
     },
     "execution_count": 59,
     "metadata": {},
     "output_type": "execute_result"
    }
   ],
   "source": [
    "def absolute_error(actual, predicted):\n",
    "    print (np.abs(actual - predicted))\n",
    "    return (np.abs(actual - predicted))\n",
    "\n",
    "absolute_error(ca, cp)\n"
   ]
  },
  {
   "cell_type": "code",
   "execution_count": 57,
   "metadata": {},
   "outputs": [
    {
     "name": "stdout",
     "output_type": "stream",
     "text": [
      "[ True  True  True  True  True  True]\n",
      "6\n",
      "1.0\n"
     ]
    },
    {
     "data": {
      "text/plain": [
       "1.0"
      ]
     },
     "execution_count": 57,
     "metadata": {},
     "output_type": "execute_result"
    }
   ],
   "source": [
    "@unhot\n",
    "def classification_error(actual, predicted):\n",
    "    print((actual != predicted))\n",
    "    print((actual != predicted).sum())\n",
    "    print((actual != predicted).sum() / float(actual.shape[0]))\n",
    "    return (actual != predicted).sum() / float(actual.shape[0])\n",
    "classification_error(ca,cp)"
   ]
  },
  {
   "cell_type": "code",
   "execution_count": 58,
   "metadata": {},
   "outputs": [
    {
     "name": "stdout",
     "output_type": "stream",
     "text": [
      "[ True  True  True  True  True  True]\n",
      "6\n",
      "1.0\n",
      "0.0\n"
     ]
    }
   ],
   "source": [
    "#@unhot\n",
    "def accuracy(actual, predicted):\n",
    "    print(1 - classification_error(actual, predicted))\n",
    "accuracy(ca,cp)"
   ]
  },
  {
   "cell_type": "code",
   "execution_count": 62,
   "metadata": {},
   "outputs": [
    {
     "name": "stdout",
     "output_type": "stream",
     "text": [
      "10.0\n",
      "[10 10 10 10 10 10]\n"
     ]
    },
    {
     "data": {
      "text/plain": [
       "10.0"
      ]
     },
     "execution_count": 62,
     "metadata": {},
     "output_type": "execute_result"
    }
   ],
   "source": [
    "def mean_absolute_error(actual, predicted):\n",
    "    print(np.mean(np.abs(actual - predicted)))\n",
    "    return (np.mean(absolute_error(actual, predicted)))\n",
    "mean_absolute_error(ca, cp)"
   ]
  },
  {
   "cell_type": "code",
   "execution_count": 67,
   "metadata": {},
   "outputs": [
    {
     "name": "stdout",
     "output_type": "stream",
     "text": [
      "[ -1  -2 -82  -2  -3]\n"
     ]
    },
    {
     "data": {
      "text/plain": [
       "array([   1,    4, 6724,    4,    9], dtype=int32)"
      ]
     },
     "execution_count": 67,
     "metadata": {},
     "output_type": "execute_result"
    }
   ],
   "source": [
    "def squared_error(actual, predicted):\n",
    "    print(actual - predicted)\n",
    "    return (actual - predicted)**2\n",
    "squared_error(np.array([1,2,3,4,5]), np.array([2, 4, 85, 6, 8]))"
   ]
  },
  {
   "cell_type": "code",
   "execution_count": 68,
   "metadata": {},
   "outputs": [
    {
     "name": "stdout",
     "output_type": "stream",
     "text": [
      "[-10 -10 -10 -10 -10 -10]\n"
     ]
    },
    {
     "data": {
      "text/plain": [
       "array([100, 100, 100, 100, 100, 100], dtype=int32)"
      ]
     },
     "execution_count": 68,
     "metadata": {},
     "output_type": "execute_result"
    }
   ],
   "source": [
    "squared_error(ca, cp)"
   ]
  },
  {
   "cell_type": "code",
   "execution_count": 69,
   "metadata": {},
   "outputs": [],
   "source": [
    "def squared_log_error(actual, predicted):\n",
    "    #adding 1 as  log0 is NaN\n",
    "    return (np.log(np.array(actual) + 1) - np.log(np.array(predicted) + 1)) ** 2\n",
    "\n",
    "\n",
    "def mean_squared_log_error(actual, predicted):\n",
    "    return np.mean(squared_log_error(actual, predicted))\n",
    "\n",
    "\n",
    "def mean_squared_error(actual, predicted):\n",
    "    return np.mean(squared_error(actual, predicted))\n",
    "\n",
    "\n",
    "def root_mean_squared_error(actual, predicted):\n",
    "    return np.sqrt(mean_squared_error(actual, predicted))\n",
    "\n",
    "\n",
    "def root_mean_squared_log_error(actual, predicted):\n",
    "    return np.sqrt(mean_squared_log_error(actual, predicted))\n"
   ]
  },
  {
   "cell_type": "code",
   "execution_count": 113,
   "metadata": {},
   "outputs": [],
   "source": [
    "EPS = 1e-15\n",
    "def logloss(actual, predicted):\n",
    "    predicted = np.clip(predicted, EPS, 1 - EPS)\n",
    "    loss = -np.sum(actual * np.log(predicted))\n",
    "    return loss / float(actual.shape[0])\n",
    "\n",
    "# print(\"Multiply\",actual * np.log(predicted))\n",
    "# print(\"-ve loss\", loss)\n",
    "# print(\"out\",loss / float(actual.shape[0]))\n"
   ]
  },
  {
   "cell_type": "code",
   "execution_count": 77,
   "metadata": {},
   "outputs": [],
   "source": [
    "ca = np.array([1,1,0,0,1,0,1])\n",
    "cp = np.array([1,1,0,0,0,1,0])"
   ]
  },
  {
   "cell_type": "markdown",
   "metadata": {},
   "source": [
    "np.clip will take - array and change \n",
    "- all the values less than min to min \n",
    "- all values max to given max to given max value\n",
    "\n",
    "```\n",
    "mathematically\n",
    "x = min if x < min  or \n",
    "x = max if x > max\n",
    "```\n",
    "\n",
    "Here EPS is expotential; 1e-15 detones 10 to the power of -15 i.e very very low value but not equal to 0\n",
    "\n",
    "> to calculate log for 0,1 we do clip"
   ]
  },
  {
   "cell_type": "code",
   "execution_count": 81,
   "metadata": {},
   "outputs": [
    {
     "name": "stdout",
     "output_type": "stream",
     "text": [
      "[1 1 0 0 0 1 0]\n"
     ]
    },
    {
     "data": {
      "text/plain": [
       "array([0.7, 0.7, 0.3, 0.3, 0.3, 0.7, 0.3])"
      ]
     },
     "execution_count": 81,
     "metadata": {},
     "output_type": "execute_result"
    }
   ],
   "source": [
    "print(cp)\n",
    "np.clip(cp, 0.3, 0.7)"
   ]
  },
  {
   "cell_type": "code",
   "execution_count": 86,
   "metadata": {},
   "outputs": [
    {
     "name": "stdout",
     "output_type": "stream",
     "text": [
      "[1 1 0 0 1 0 1] [1 1 0 0 0 1 0]\n"
     ]
    },
    {
     "data": {
      "text/plain": [
       "array([1, 1, 0, 0, 0, 0, 0])"
      ]
     },
     "execution_count": 86,
     "metadata": {},
     "output_type": "execute_result"
    }
   ],
   "source": [
    "print(ca,cp)\n",
    "ca*cp"
   ]
  },
  {
   "cell_type": "code",
   "execution_count": 92,
   "metadata": {},
   "outputs": [
    {
     "name": "stdout",
     "output_type": "stream",
     "text": [
      "Multiply [-9.99200722e-16 -9.99200722e-16 -0.00000000e+00 -0.00000000e+00\n",
      " -3.45387764e+01 -0.00000000e+00 -3.45387764e+01]\n",
      "-ve loss 69.07755278982137\n",
      "out 9.868221827117338\n"
     ]
    },
    {
     "data": {
      "text/plain": [
       "9.868221827117338"
      ]
     },
     "execution_count": 92,
     "metadata": {},
     "output_type": "execute_result"
    }
   ],
   "source": [
    "logloss(ca, cp)"
   ]
  },
  {
   "cell_type": "code",
   "execution_count": 93,
   "metadata": {},
   "outputs": [
    {
     "name": "stdout",
     "output_type": "stream",
     "text": [
      "Multiply [-9.99200722e-16 -9.99200722e-16 -0.00000000e+00 -0.00000000e+00\n",
      " -9.99200722e-16 -0.00000000e+00 -9.99200722e-16]\n",
      "-ve loss 3.996802888650566e-15\n",
      "out 5.709718412357951e-16\n"
     ]
    },
    {
     "data": {
      "text/plain": [
       "5.709718412357951e-16"
      ]
     },
     "execution_count": 93,
     "metadata": {},
     "output_type": "execute_result"
    }
   ],
   "source": [
    "logloss(np.array([1,1,0,0,1,0,1]),np.array([1,1,0,0,1,0,1]))"
   ]
  },
  {
   "cell_type": "code",
   "execution_count": 94,
   "metadata": {},
   "outputs": [
    {
     "data": {
      "text/plain": [
       "-34.538776394910684"
      ]
     },
     "execution_count": 94,
     "metadata": {},
     "output_type": "execute_result"
    }
   ],
   "source": [
    "np.log(EPS) #i.e zero -> wrong prediction, loss value is very high"
   ]
  },
  {
   "cell_type": "code",
   "execution_count": 95,
   "metadata": {},
   "outputs": [
    {
     "data": {
      "text/plain": [
       "-9.992007221626415e-16"
      ]
     },
     "execution_count": 95,
     "metadata": {},
     "output_type": "execute_result"
    }
   ],
   "source": [
    "np.log(1-EPS) #i.e one -> correct prediction, loss value is very very low -> -9.9e-16"
   ]
  },
  {
   "cell_type": "code",
   "execution_count": 109,
   "metadata": {},
   "outputs": [
    {
     "data": {
      "text/plain": [
       "array([-9.99200722e-16, -9.99200722e-16, -3.45387764e+01, -3.45387764e+01,\n",
       "       -3.45387764e+01, -9.99200722e-16, -3.45387764e+01])"
      ]
     },
     "execution_count": 109,
     "metadata": {},
     "output_type": "execute_result"
    }
   ],
   "source": [
    "np.log(np.clip(cp, EPS, 1 - EPS))"
   ]
  },
  {
   "cell_type": "code",
   "execution_count": 110,
   "metadata": {},
   "outputs": [
    {
     "data": {
      "text/plain": [
       "array([-9.99200722e-16, -9.99200722e-16, -0.00000000e+00, -0.00000000e+00,\n",
       "       -3.45387764e+01, -0.00000000e+00, -3.45387764e+01])"
      ]
     },
     "execution_count": 110,
     "metadata": {},
     "output_type": "execute_result"
    }
   ],
   "source": [
    "ca * np.log(np.clip(cp, EPS, 1 - EPS))"
   ]
  },
  {
   "cell_type": "code",
   "execution_count": 114,
   "metadata": {},
   "outputs": [
    {
     "name": "stdout",
     "output_type": "stream",
     "text": [
      "[1 1 0 0 1 0 1] [1 1 0 0 0 1 0]\n",
      "[-9.99200722e-16 -9.99200722e-16 -3.45387764e+01 -3.45387764e+01\n",
      " -3.45387764e+01 -9.99200722e-16 -3.45387764e+01]\n",
      "[-9.99200722e-16 -9.99200722e-16 -0.00000000e+00 -0.00000000e+00\n",
      " -3.45387764e+01 -0.00000000e+00 -3.45387764e+01]\n"
     ]
    }
   ],
   "source": [
    "print(ca,cp)\n",
    "print(np.log(np.clip(cp, EPS, 1 - EPS)))\n",
    "print(ca * np.log(np.clip(cp, EPS, 1 - EPS)))"
   ]
  },
  {
   "cell_type": "markdown",
   "metadata": {},
   "source": [
    "> As per above observations for every wrong prediction - the multiplication value goes to zero and when summed together we get high logloss values, in magnitudes of 10 power 16\n",
    "\n",
    "### As per above , false positives are not having any effect on the loss.!"
   ]
  },
  {
   "cell_type": "code",
   "execution_count": null,
   "metadata": {},
   "outputs": [],
   "source": []
  },
  {
   "cell_type": "code",
   "execution_count": null,
   "metadata": {},
   "outputs": [],
   "source": []
  },
  {
   "cell_type": "code",
   "execution_count": 105,
   "metadata": {},
   "outputs": [],
   "source": [
    "def hinge(actual, predicted):\n",
    "    print('multiply',actual * predicted)\n",
    "    print('1-mul',1 - actual * predicted)\n",
    "    print('max',np.max(1 - actual * predicted, 0))\n",
    "    print('loss',np.mean(np.max(1 - actual * predicted, 0)))\n",
    "    return np.mean(np.max(1 - actual * predicted, 0))"
   ]
  },
  {
   "cell_type": "code",
   "execution_count": 106,
   "metadata": {},
   "outputs": [
    {
     "name": "stdout",
     "output_type": "stream",
     "text": [
      "ca, cp [1 1 0 0 1 0 1] [1 1 0 0 0 1 0]\n",
      "multiply [1 1 0 0 0 0 0]\n",
      "1-mul [0 0 1 1 1 1 1]\n",
      "max 1\n",
      "loss 1.0\n"
     ]
    },
    {
     "data": {
      "text/plain": [
       "1.0"
      ]
     },
     "execution_count": 106,
     "metadata": {},
     "output_type": "execute_result"
    }
   ],
   "source": [
    "print('ca, cp', ca, cp)\n",
    "hinge(ca,cp)"
   ]
  },
  {
   "cell_type": "markdown",
   "metadata": {},
   "source": [
    "It will give 1 for any one failed prediction it seems"
   ]
  },
  {
   "cell_type": "code",
   "execution_count": null,
   "metadata": {},
   "outputs": [],
   "source": []
  },
  {
   "cell_type": "markdown",
   "metadata": {},
   "source": []
  },
  {
   "cell_type": "code",
   "execution_count": 115,
   "metadata": {},
   "outputs": [],
   "source": [
    "def binary_crossentropy(actual, predicted):\n",
    "    predicted = np.clip(predicted, EPS, 1 - EPS)\n",
    "    return np.mean(-np.sum(actual * np.log(predicted) + \n",
    "                           (1 - actual) * np.log(1 - predicted)))\n"
   ]
  },
  {
   "cell_type": "code",
   "execution_count": 124,
   "metadata": {},
   "outputs": [
    {
     "name": "stdout",
     "output_type": "stream",
     "text": [
      "[1 1 0 0 1 0 1] [1 1 0 0 0 1 0]\n",
      "[-9.99200722e-16 -9.99200722e-16 -3.45387764e+01 -3.45387764e+01\n",
      " -3.45387764e+01 -9.99200722e-16 -3.45387764e+01]\n",
      "[-9.99200722e-16 -9.99200722e-16 -0.00000000e+00 -0.00000000e+00\n",
      " -3.45387764e+01 -0.00000000e+00 -3.45387764e+01]\n",
      "-69.07755278982137\n",
      "-9.868221827117338\n",
      "69.07755278982137\n"
     ]
    }
   ],
   "source": [
    "print(ca,cp)\n",
    "pred = np.clip(cp, EPS, 1 - EPS)\n",
    "print(np.log(pred))\n",
    "print(ca * np.log(pred))\n",
    "print(np.sum(ca * np.log(pred)))\n",
    "print(np.sum(ca * np.log(pred))/float(ca.shape[0]))\n",
    "print(np.mean(-np.sum(ca * np.log(pred))))"
   ]
  },
  {
   "cell_type": "code",
   "execution_count": 121,
   "metadata": {},
   "outputs": [
    {
     "name": "stdout",
     "output_type": "stream",
     "text": [
      "[1 1 0 0 1 0 1] [1 1 0 0 0 1 0]\n",
      "[0 0 1 1 0 1 0] [-3.45395760e+01 -3.45395760e+01 -9.99200722e-16 -9.99200722e-16\n",
      " -9.99200722e-16 -3.45395760e+01 -9.99200722e-16]\n",
      "[35.53957599 35.53957599  1.          1.          1.          1.\n",
      "  1.        ]\n"
     ]
    }
   ],
   "source": [
    "print(ca,cp)\n",
    "pred = np.clip(cp, EPS, 1 - EPS)\n",
    "print(1-ca, np.log(1-pred))\n",
    "print(1-ca * np.log(1-pred))\n"
   ]
  },
  {
   "cell_type": "code",
   "execution_count": null,
   "metadata": {},
   "outputs": [],
   "source": []
  }
 ],
 "metadata": {
  "kernelspec": {
   "display_name": "Python 3",
   "language": "python",
   "name": "python3"
  },
  "language_info": {
   "codemirror_mode": {
    "name": "ipython",
    "version": 3
   },
   "file_extension": ".py",
   "mimetype": "text/x-python",
   "name": "python",
   "nbconvert_exporter": "python",
   "pygments_lexer": "ipython3",
   "version": "3.6.4"
  }
 },
 "nbformat": 4,
 "nbformat_minor": 2
}
